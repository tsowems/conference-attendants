{
 "cells": [
  {
   "cell_type": "code",
   "execution_count": 1,
   "id": "298900df",
   "metadata": {},
   "outputs": [
    {
     "data": {
      "text/html": [
       "<h1 style='color:red;text-align:center; font-size:40px;'> Virtual Attendees & After Event Viewers</h1><h3 style='color:blue;text-align:center; font-size:25px;'>Chart showing those attended in-person and then log on later to view the information and or network?</h5>"
      ],
      "text/plain": [
       "<IPython.core.display.HTML object>"
      ]
     },
     "metadata": {},
     "output_type": "display_data"
    },
    {
     "name": "stdout",
     "output_type": "stream",
     "text": [
      "Delegates Who Attended In-Person and Logged In During Event:  228\n",
      "Delegates Who Attended In-Person and Logged In To Delegate Site After Event:  140\n"
     ]
    },
    {
     "data": {
      "text/html": [
       "<p>If the login time was between 9:00 and 15:30 on the day of the event, they were considered to have been online during the event. If a login was made by a user after 15:30 on the day of the event or thereafter, they were considered to have logged in after the event.</p>"
      ],
      "text/plain": [
       "<IPython.core.display.HTML object>"
      ]
     },
     "metadata": {},
     "output_type": "display_data"
    },
    {
     "data": {
      "text/html": [
       "</br></br></br><div style='width:100%; text-align:center;'><a href='3-duration_on_live_session.html' style='color:blue;'>Previous</a> <a href='Question6.html' style='color:blue;'>Next</a></div>"
      ],
      "text/plain": [
       "<IPython.core.display.HTML object>"
      ]
     },
     "metadata": {},
     "output_type": "display_data"
    }
   ],
   "source": [
    "\"\"\"\n",
    "                 Idenify delegates that attended During the Virtual event and logged in after the event\n",
    "          Did anyone attend in-person and then log on later to view the information and or network?\n",
    "       \n",
    "       Note: You are required to have preinstalled the needed third party libraries as stated in the documentation\n",
    "\"\"\"\n",
    "#LIbraries importation\n",
    "import mysql.connector\n",
    "import numpy as np\n",
    "import pandas as pd\n",
    "import matplotlib.pyplot as plt\n",
    "from matplotlib.gridspec import GridSpec\n",
    "from IPython.display import display, HTML\n",
    "\n",
    "dbConnect=mysql.connector.connect(host=\"localhost\",user=\"root\",password=\"password\",database=\"BookMeIn2\", auth_plugin='mysql_native_password')\n",
    "mycursor=dbConnect.cursor()\n",
    "\n",
    "\n",
    "display(HTML(\"<h1 style='color:red;text-align:center; font-size:40px;'> Virtual Attendees & After Event Viewers</h1><h3 style='color:blue;text-align:center; font-size:25px;'>Chart showing those attended in-person and then log on later to view the information and or network?</h5>\"))\n",
    "\n",
    "#Select Query counting delegates inperson during event\n",
    "mycursor.execute(\"SELECT COUNT(*) FROM `registrations` INNER JOIN `attendee_log` ON `registrations`.`attendee_id` = `attendee_log`.`attendeeid` WHERE `event_id`=4114 AND `date_visited` BETWEEN '2021-12-09 09:00:00' AND '2021-12-09 15:30:00' AND `reftype`='login' AND `registered`=1\")\n",
    "duringEvent = mycursor.fetchone()\n",
    "\n",
    "#Select Query counting delegates inperson after event\n",
    "mycursor.execute(\"SELECT COUNT(*) FROM `registrations` INNER JOIN `attendee_log` ON `registrations`.`attendee_id` = `attendee_log`.`attendeeid` WHERE `event_id`=4114 AND `date_visited` > '2021-12-09 15:30:00' AND `reftype`='login' AND `registered`=1\")\n",
    "afterEvent = mycursor.fetchone()\n",
    "\n",
    "\n",
    "print('Delegates Who Attended In-Person and Logged In During Event: ', duringEvent[0])\n",
    "print('Delegates Who Attended In-Person and Logged In To Delegate Site After Event: ', afterEvent[0])\n",
    "\n",
    "display(HTML(\"<p>If the login time was between 9:00 and 15:30 on the day of the event, they were considered to have been online during the event. If a login was made by a user after 15:30 on the day of the event or thereafter, they were considered to have logged in after the event.</p>\"))\n",
    "\n",
    "#----------Footer Section for report generation navigation -----------------#\n",
    "footer = \"</br></br></br><div style='width:100%; text-align:center;'><a href='3-duration_on_live_session.html' style='color:blue;'>Previous</a> <a href='Question6.html' style='color:blue;'>Next</a></div>\"\n",
    "display(HTML(footer))\n"
   ]
  },
  {
   "cell_type": "code",
   "execution_count": null,
   "id": "dbb9efbf",
   "metadata": {},
   "outputs": [],
   "source": []
  }
 ],
 "metadata": {
  "kernelspec": {
   "display_name": "Python 3",
   "language": "python",
   "name": "python3"
  },
  "language_info": {
   "codemirror_mode": {
    "name": "ipython",
    "version": 3
   },
   "file_extension": ".py",
   "mimetype": "text/x-python",
   "name": "python",
   "nbconvert_exporter": "python",
   "pygments_lexer": "ipython3",
   "version": "3.8.8"
  }
 },
 "nbformat": 4,
 "nbformat_minor": 5
}
